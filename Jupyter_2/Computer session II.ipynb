{
 "cells": [
  {
   "cell_type": "markdown",
   "metadata": {},
   "source": [
    "<center> <h1> [SI4C-L1] 4MEO/MIN INSTRUMENTATION </h1> <br> <h2> Computer session 2: Calibration curves and linear regression </h2> </center>"
   ]
  },
  {
   "cell_type": "markdown",
   "metadata": {},
   "source": [
    "#### First name:\n",
    "\n",
    "<span>\n",
    "\n",
    "#### Last name :\n",
    "\n",
    "<span>\n",
    "\n",
    "#### Noma :"
   ]
  },
  {
   "cell_type": "markdown",
   "metadata": {},
   "source": [
    "## Part I : Linear regression for instrument calibration"
   ]
  },
  {
   "cell_type": "markdown",
   "metadata": {},
   "source": [
    "#### Example : Linear potentiometer calibration\n"
   ]
  },
  {
   "cell_type": "code",
   "execution_count": 9,
   "metadata": {},
   "outputs": [],
   "source": [
    "import numpy as np\n",
    "from scipy.stats import t\n",
    "import matplotlib.pyplot as plt\n",
    "\n",
    "\n",
    "def linreg(X, Y):\n",
    "    \"\"\"\n",
    "    Summary\n",
    "        Linear regression of y = ax + b\n",
    "    Usage\n",
    "        real, real, real = linreg(list, list)\n",
    "    Returns coefficients to the regression line \"y=ax+b\" from x[] and y[], and R^2 Value\n",
    "    \"\"\"\n",
    "    N = len(X)\n",
    "\n",
    "    if N != len(Y):  raise(ValueError, 'unequal length')\n",
    "\n",
    "    Sx = Sy = Sxx = Syy = Sxy = 0.0\n",
    "    for x, y in zip(X, Y):\n",
    "        Sx  += x\n",
    "        Sy  += y\n",
    "        Sxx += x*x\n",
    "        Syy += y*y\n",
    "        Sxy += x*y\n",
    "\n",
    "    det =  Sx * Sx - Sxx * N # see the lecture\n",
    "\n",
    "    a,b = (Sy * Sx - Sxy * N)/det, (Sx * Sxy - Sxx * Sy)/det\n",
    "\n",
    "    meanerror = residual = residualx = 0.0\n",
    "\n",
    "    for x, y in zip(X, Y):\n",
    "        meanerror += (y - Sy/N)**2\n",
    "        residual  += (y - a * x - b)**2\n",
    "        residualx += (x - Sx/N)**2\n",
    "\n",
    "    RR = 1 - residual/meanerror\n",
    "    # linear regression, a_0, a_1 => m = 1\n",
    "    m = 1\n",
    "    nu = N - (m+1)\n",
    "\n",
    "    sxy = np.sqrt(residual / nu)\n",
    "\n",
    "    # Var_a, Var_b = ss * N / det, ss * Sxx / det\n",
    "\n",
    "    Sa = sxy * np.sqrt(1/residualx)\n",
    "    Sb = sxy * np.sqrt(Sxx/(N*residualx))\n",
    "\n",
    "\n",
    "    # We work with t-distribution, ()\n",
    "    # t_{nu;\\alpha/2} = t_{3,95} = 3.18\n",
    "    tvalue = t.ppf(1-(1-0.95)/2, nu)\n",
    "\n",
    "    print(\"Estimate: y = ax + b\")\n",
    "    print(\"N = %d\" % N)\n",
    "    print(\"Degrees of freedom $\\\\nu$ = %d \" % nu)\n",
    "    print(\"a = %.2f $\\\\pm$ %.3f\" % (a, tvalue*Sa/np.sqrt(N)))\n",
    "    print(\"b = %.2f $\\\\pm$ %.3f\" % (b, tvalue*Sb/np.sqrt(N)))\n",
    "    print(\"R^2 = %.3f\" % RR)\n",
    "    print(\"Syx = %.3f\" % sxy)\n",
    "    print(\"y = %.2f x + %.2f $\\\\pm$ %.3f V\" % (a, b, tvalue*sxy/np.sqrt(N)))\n",
    "    return a, b, RR, sxy"
   ]
  },
  {
   "cell_type": "code",
   "execution_count": 10,
   "metadata": {},
   "outputs": [],
   "source": [
    "X = np.array([1.0, 2.0, 3.0, 4.0, 5.0]) # (cm)\n",
    "Y = np.array([1.2, 1.9, 3.2, 4.1, 5.3]) # (Volt)"
   ]
  },
  {
   "cell_type": "code",
   "execution_count": 11,
   "metadata": {},
   "outputs": [
    {
     "name": "stdout",
     "output_type": "stream",
     "text": [
      "Estimate: y = ax + b\n",
      "N = 5\n",
      "Degrees of freedom $\\nu$ = 3 \n",
      "a = 1.04 $\\pm$ 0.072\n",
      "b = 0.02 $\\pm$ 0.238\n",
      "R^2 = 0.993\n",
      "Syx = 0.159\n",
      "y = 1.04 x + 0.02 $\\pm$ 0.227 V\n"
     ]
    }
   ],
   "source": [
    "a,b,RR,sxy = linreg(X,Y)"
   ]
  },
  {
   "cell_type": "code",
   "execution_count": 8,
   "metadata": {},
   "outputs": [
    {
     "data": {
      "image/png": "[encoded data removed]",
      "text/plain": [
       "<Figure size 576x576 with 1 Axes>"
      ]
     },
     "metadata": {
      "needs_background": "light"
     },
     "output_type": "display_data"
    }
   ],
   "source": [
    "ig,ax = plt.subplots(figsize=(8,8))\n",
    "ax.plot(X,Y,'o')\n",
    "ax.plot(X,(X*a + b),'r-')\n",
    "ax.plot(X,(X*a + b +.23),'k--')\n",
    "ax.plot(X,(X*a + b - .23),'k--')\n",
    "ax.set_xlim((0,8))\n",
    "ax.set_ylim((0,8))\n",
    "ax.text(.5,4,'Range of $Y$')\n",
    "ax.text(2,1,'Range of $X$')\n",
    "ax.plot([0,1],[1,1],'k:')\n",
    "ax.plot([0,5],[5.5,5.5],'k:')\n",
    "ax.plot([1,1],[0,1],'k:')\n",
    "ax.plot([5,5],[0,5.5],'k:')\n",
    "\n",
    "ax.annotate('Confidence interval', xy=(4,4), xytext=(6,4),\n",
    "            arrowprops=dict(facecolor='black', shrink=0.05,width=.1),\n",
    "            )\n",
    "ax.annotate('Confidence interval', xy=(4,4.5), xytext=(6,4),\n",
    "            arrowprops=dict(facecolor='black', shrink=0.05,width=.1),\n",
    "            )\n",
    "\n",
    "ax.set_xlabel('$x$ (cm)',fontsize=16)\n",
    "ax.set_ylabel('$y$ (V)',fontsize=16);"
   ]
  },
  {
   "cell_type": "code",
   "execution_count": 40,
   "metadata": {},
   "outputs": [
    {
     "name": "stdout",
     "output_type": "stream",
     "text": [
      "0.07637500000000007\n",
      "10.000000000000163\n"
     ]
    },
    {
     "data": {
      "image/png": "[encoded data removed]",
      "text/plain": [
       "<Figure size 432x288 with 1 Axes>"
      ]
     },
     "metadata": {
      "needs_background": "light"
     },
     "output_type": "display_data"
    }
   ],
   "source": [
    "# MAIS C EST DE LA MERDE\n",
    "\n",
    "def linear_regression(X,Y):\n",
    "    N = len(X)\n",
    "    if N != len(Y):  raise(ValueError, 'unequal length')\n",
    "    \n",
    "    # mean\n",
    "    meanX = np.sum(X) / N\n",
    "    meanY = np.sum(Y) / N\n",
    "    \n",
    "    # least squares\n",
    "    # f = meanY/meanX \n",
    "    \n",
    "    slope = 0\n",
    "    squares = []\n",
    "    \n",
    "    while slope < 10:\n",
    "        square_resi = 0\n",
    "        for i in range(N):\n",
    "            square_resi += (Y[i] - slope * X[i])**2\n",
    "            \n",
    "        squares.append(square_resi)\n",
    "        slope += 0.005\n",
    "    least_squares = np.min(np.array(squares))\n",
    "    print(least_squares)\n",
    "    \n",
    "    \n",
    "    plt.plot(X,slope * X)\n",
    "    plt.plot(X,Y,\"x\")\n",
    "    \n",
    "    print(slope)\n",
    "linear_regression(X,Y)"
   ]
  },
  {
   "cell_type": "code",
   "execution_count": null,
   "metadata": {},
   "outputs": [],
   "source": []
  },
  {
   "cell_type": "markdown",
   "metadata": {},
   "source": [
    "### EXO A : Static calibration curves for uncertainty estimation\n",
    "#### Concentration analysis of a solute using spectroscopy.\n"
   ]
  },
  {
   "cell_type": "code",
   "execution_count": null,
   "metadata": {},
   "outputs": [],
   "source": [
    "import numpy as np\n",
    "import pylab as pl"
   ]
  },
  {
   "cell_type": "markdown",
   "metadata": {},
   "source": [
    "https://github.com/alexlib/engineering_experiments_measurements_course/blob/master/notebooks/unsorted/homework1_example-copy.ipynb\n",
    "\n",
    " In this part, we are interested in the analysis of the concentration of a solute using spectroscopy. The following data was obtained after a concentration analysis."
   ]
  },
  {
   "cell_type": "code",
   "execution_count": null,
   "metadata": {},
   "outputs": [],
   "source": [
    "c = np.array([5.1, 17.0, 25.5, 34.0, 42.5, 51.0 ]) # concentration [ppm]\n",
    "T = np.array([78.1, 43.2, 31.4, 18.8, 14.5, 8.7]) # transmittance, [%]"
   ]
  },
  {
   "cell_type": "markdown",
   "metadata": {},
   "source": [
    " Following calibration, a sample of concentration was analyzed and the measured transmittance was 35.6%.\n",
    "\n",
    "####  The objective of this exercice is to report the concentration of analyte in the form of a confidence interval."
   ]
  },
  {
   "cell_type": "markdown",
   "metadata": {},
   "source": [
    "1. First, convert the transmittance into absorbance,\n",
    "2. Plot the calibration curve.\n",
    "3. Why do we need to convert the transmittence into absorbance ? "
   ]
  },
  {
   "cell_type": "code",
   "execution_count": null,
   "metadata": {},
   "outputs": [],
   "source": []
  },
  {
   "cell_type": "code",
   "execution_count": null,
   "metadata": {},
   "outputs": [],
   "source": []
  },
  {
   "cell_type": "code",
   "execution_count": null,
   "metadata": {},
   "outputs": [],
   "source": []
  },
  {
   "cell_type": "markdown",
   "metadata": {},
   "source": [
    "4. Using the function linreg perform the linear regression and plot the linearcurve in the same graph with the calibration curve"
   ]
  },
  {
   "cell_type": "code",
   "execution_count": null,
   "metadata": {},
   "outputs": [],
   "source": [
    "from math import sqrt\n",
    "# define the new function\n",
    "def linreg(X, Y):\n",
    "    \"\"\"\n",
    "    Summary\n",
    "        Linear regression of y = ax + b\n",
    "    Usage\n",
    "        real, real, real = linreg(list, list)\n",
    "    Returns coefficients to the regression line \"y=ax+b\" from x[] and y[], and R^2 Value\n",
    "    \"\"\"\n",
    "    if len(X) != len(Y):  raise ValueError, 'unequal length'\n",
    "    N = len(X)\n",
    "    Sx = Sy = Sxx = Syy = Sxy = 0.0\n",
    "    for x, y in map(None, X, Y):\n",
    "        Sx = Sx + x\n",
    "        Sy = Sy + y\n",
    "        Sxx = Sxx + x*x\n",
    "        Syy = Syy + y*y\n",
    "        Sxy = Sxy + x*y\n",
    "    det = Sxx * N - Sx * Sx\n",
    "    a, b = (Sxy * N - Sy * Sx)/det, (Sxx * Sy - Sx * Sxy)/det\n",
    "    meanerror = residual = 0.0\n",
    "    for x, y in map(None, X, Y):\n",
    "        meanerror = meanerror + (y - Sy/N)**2\n",
    "        residual = residual + (y - a * x - b)**2\n",
    "    RR = 1 - residual/meanerror\n",
    "    ss = residual / (N-2)\n",
    "    Var_a, Var_b = ss * N / det, ss * Sxx / det\n",
    "    #print \"y=ax+b\"\n",
    "    #print \"N= %d\" % N\n",
    "    #print \"a= %g \\\\pm t_{%d;\\\\alpha/2} %g\" % (a, N-2, sqrt(Var_a))\n",
    "    #print \"b= %g \\\\pm t_{%d;\\\\alpha/2} %g\" % (b, N-2, sqrt(Var_b))\n",
    "    #print \"R^2= %g\" % RR\n",
    "    #print \"s^2= %g\" % ss\n",
    "    return a, b, RR"
   ]
  },
  {
   "cell_type": "markdown",
   "metadata": {},
   "source": [
    "5. Based on your previous findings, compute the deviation for each point of the dataset and plot the results."
   ]
  },
  {
   "cell_type": "code",
   "execution_count": null,
   "metadata": {},
   "outputs": [],
   "source": []
  },
  {
   "cell_type": "markdown",
   "metadata": {},
   "source": [
    "6. Now, using the calibration curve, estimate the value of concentration from the measurement."
   ]
  },
  {
   "cell_type": "code",
   "execution_count": null,
   "metadata": {},
   "outputs": [],
   "source": []
  },
  {
   "cell_type": "markdown",
   "metadata": {},
   "source": [
    "7. Assume random white noise estimate the confidence level. Estimate the concentration of the sample and compute its corresponding uncertainty.\n",
    "\n"
   ]
  },
  {
   "cell_type": "code",
   "execution_count": null,
   "metadata": {},
   "outputs": [],
   "source": []
  },
  {
   "cell_type": "markdown",
   "metadata": {},
   "source": [
    "### EXO B : Linear regression error\n"
   ]
  },
  {
   "cell_type": "markdown",
   "metadata": {},
   "source": [
    "In this exercice we will work on the data provided during the computer session I , EXO B\n",
    "\n",
    "1. Using the function linreg perform the linear regression and plot the linearity curve in the same graph with the calibration curve\n",
    "2. Based on your previous result compute and plot the deviation curve for each point of the dataset.\n",
    "3. We perform a voltage measurement using the same instrument and we find Y = 3.2 V , estimate the value of the voltage based on your previous findings. What is the confidence level ? "
   ]
  },
  {
   "cell_type": "code",
   "execution_count": null,
   "metadata": {},
   "outputs": [],
   "source": [
    "from scipy.stats import t\n",
    "\n",
    "\n",
    "def linreg(X, Y):\n",
    "    \"\"\"\n",
    "    Summary\n",
    "        Linear regression of y = ax + b\n",
    "    Usage\n",
    "        real, real, real = linreg(list, list)\n",
    "    Returns coefficients to the regression line \"y=ax+b\" from x[] and y[], and R^2 Value\n",
    "    \"\"\"\n",
    "    N = len(X)\n",
    "\n",
    "    if N != len(Y):  raise(ValueError, 'unequal length')\n",
    "\n",
    "    Sx = Sy = Sxx = Syy = Sxy = 0.0\n",
    "    for x, y in zip(X, Y):\n",
    "        Sx = Sx + x\n",
    "        Sy = Sy + y\n",
    "        Sxx = Sxx + x*x\n",
    "        Syy = Syy + y*y\n",
    "        Sxy = Sxy + x*y\n",
    "\n",
    "    det =  Sx * Sx - Sxx * N # see the lecture\n",
    "\n",
    "    a,b = (Sy * Sx - Sxy * N)/det, (Sx * Sxy - Sxx * Sy)/det\n",
    "\n",
    "    meanerror = residual = residualx = 0.0\n",
    "\n",
    "    for x, y in zip(X, Y):\n",
    "        meanerror = meanerror + (y - Sy/N)**2\n",
    "        residual = residual + (y - a * x - b)**2\n",
    "        residualx = residualx + (x - Sx/N)**2\n",
    "\n",
    "    RR = 1 - residual/meanerror\n",
    "    # linear regression, a_0, a_1 => m = 1\n",
    "    m = 1\n",
    "    nu = N - (m+1)\n",
    "\n",
    "    sxy = np.sqrt(residual / nu)\n",
    "\n",
    "    # Var_a, Var_b = ss * N / det, ss * Sxx / det\n",
    "\n",
    "    Sa = sxy * np.sqrt(1/residualx)\n",
    "    Sb = sxy * np.sqrt(Sxx/(N*residualx))\n",
    "\n",
    "\n",
    "    # We work with t-distribution, ()\n",
    "    # t_{nu;\\alpha/2} = t_{3,95} = 3.18\n",
    "    tvalue = t.ppf(1-(1-0.95)/2, nu)\n",
    "\n",
    "    print(\"Estimate: y = ax + b\")\n",
    "    print(\"N = %d\" % N)\n",
    "    print(\"Degrees of freedom $\\\\nu$ = %d \" % nu)\n",
    "    print(\"a = %.2f $\\\\pm$ %.3f\" % (a, tvalue*Sa/np.sqrt(N)))\n",
    "    print(\"b = %.2f $\\\\pm$ %.3f\" % (b, tvalue*Sb/np.sqrt(N)))\n",
    "    print(\"R^2 = %.3f\" % RR)\n",
    "    print(\"Syx = %.3f\" % sxy)\n",
    "    print(\"y = %.2f x + %.2f $\\\\pm$ %.3f V\" % (a, b, tvalue*sxy/np.sqrt(N)))\n",
    "    return a, b, RR, sxy\n"
   ]
  },
  {
   "cell_type": "code",
   "execution_count": null,
   "metadata": {},
   "outputs": [],
   "source": []
  },
  {
   "cell_type": "code",
   "execution_count": null,
   "metadata": {},
   "outputs": [],
   "source": []
  },
  {
   "cell_type": "code",
   "execution_count": null,
   "metadata": {},
   "outputs": [],
   "source": []
  },
  {
   "cell_type": "markdown",
   "metadata": {},
   "source": [
    "### EXO C : Hot wire calibration\n"
   ]
  },
  {
   "cell_type": "markdown",
   "metadata": {},
   "source": [
    "We expect the calibration from the King's law in the form: \n",
    "\n",
    "$$ E = a + b U^m $$\n",
    "\n"
   ]
  },
  {
   "cell_type": "code",
   "execution_count": null,
   "metadata": {},
   "outputs": [],
   "source": [
    "import numpy as np\n",
    "import matplotlib.pyplot as plt\n",
    "\n",
    "# given data: \n",
    "U = np.array([0.0, 10.0, 20.0, 30.0, 40.0]) # air velocity, (m/s)\n",
    "E = np.array([3.19, 3.99, 4.30, 4.48, 4.65]) # voltage (V)"
   ]
  },
  {
   "cell_type": "code",
   "execution_count": null,
   "metadata": {},
   "outputs": [],
   "source": [
    "import numpy as np\n",
    "from scipy.stats import t\n",
    "\n",
    "\n",
    "def linreg(X, Y):\n",
    "    \"\"\"\n",
    "    Summary\n",
    "        Linear regression of y = ax + b\n",
    "    Usage\n",
    "        real, real, real = linreg(list, list)\n",
    "    Returns coefficients to the regression line \"y=ax+b\" from x[] and y[], and R^2 Value\n",
    "    \"\"\"\n",
    "    N = len(X)\n",
    "\n",
    "    if N != len(Y):  raise(ValueError, 'unequal length')\n",
    "\n",
    "    Sx = Sy = Sxx = Syy = Sxy = 0.0\n",
    "    for x, y in zip(X, Y):\n",
    "        Sx = Sx + x\n",
    "        Sy = Sy + y\n",
    "        Sxx = Sxx + x*x\n",
    "        Syy = Syy + y*y\n",
    "        Sxy = Sxy + x*y\n",
    "\n",
    "    det =  Sx * Sx - Sxx * N # see the lecture\n",
    "\n",
    "    a,b = (Sy * Sx - Sxy * N)/det, (Sx * Sxy - Sxx * Sy)/det\n",
    "\n",
    "    meanerror = residual = residualx = 0.0\n",
    "\n",
    "    for x, y in zip(X, Y):\n",
    "        meanerror = meanerror + (y - Sy/N)**2\n",
    "        residual = residual + (y - a * x - b)**2\n",
    "        residualx = residualx + (x - Sx/N)**2\n",
    "\n",
    "    RR = 1 - residual/meanerror\n",
    "    # linear regression, a_0, a_1 => m = 1\n",
    "    m = 1\n",
    "    nu = N - (m+1)\n",
    "\n",
    "    sxy = np.sqrt(residual / nu)\n",
    "\n",
    "    # Var_a, Var_b = ss * N / det, ss * Sxx / det\n",
    "\n",
    "    Sa = sxy * np.sqrt(1/residualx)\n",
    "    Sb = sxy * np.sqrt(Sxx/(N*residualx))\n",
    "\n",
    "\n",
    "    # We work with t-distribution, ()\n",
    "    # t_{nu;\\alpha/2} = t_{3,95} = 3.18\n",
    "    tvalue = t.ppf(1-(1-0.95)/2, nu)\n",
    "\n",
    "    print(\"Estimate: y = ax + b\")\n",
    "    print(\"N = %d\" % N)\n",
    "    print(\"Degrees of freedom $\\\\nu$ = %d \" % nu)\n",
    "    print(\"a = %.2f $\\\\pm$ %.3f\" % (a, tvalue*Sa/np.sqrt(N)))\n",
    "    print(\"b = %.2f $\\\\pm$ %.3f\" % (b, tvalue*Sb/np.sqrt(N)))\n",
    "    print(\"R^2 = %.3f\" % RR)\n",
    "    print(\"Syx = %.3f\" % sxy)\n",
    "    print(\"y = %.2f x + %.2f $\\\\pm$ %.3f V\" % (a, b, tvalue*sxy/np.sqrt(N)))\n",
    "    return a, b, RR, sxy"
   ]
  },
  {
   "cell_type": "markdown",
   "metadata": {},
   "source": [
    "1. Plot the calibration curve.\n",
    "2. Use a logarithmic scale and plot the calibration curve again.\n",
    "3. what can you say about it ?\n"
   ]
  },
  {
   "cell_type": "code",
   "execution_count": null,
   "metadata": {},
   "outputs": [],
   "source": []
  },
  {
   "cell_type": "markdown",
   "metadata": {},
   "source": [
    "\n",
    "Instead of working with non-linear curve we will use the trick you have already seen : the logarithmic scale\n",
    "\n",
    "4. To use linear regression, first convert the equation to linear form: \n",
    "    $$ \\log_{10}(E-a) = \\log_{10} b + m\\, \\log_{10} U $$ \n",
    "\n",
    "5. what is the value of a ?\n",
    "\n",
    "6. By using the function linreg, solve the equation as a linear regression $$ Y = B + m X $$\n",
    "    \n",
    "7. Plot the calibration curve and the confidence level curves."
   ]
  },
  {
   "cell_type": "markdown",
   "metadata": {},
   "source": [
    "## Part II : \n",
    "\n",
    "### EXO A : Understand sampling, clipping and aliasing problems\n",
    "\n",
    "\n",
    "This part is based on your toolbox previously constructed in the part II of computer session I. More specificallty, we will use the function that performs the ad conversion.\n",
    "\n"
   ]
  },
  {
   "cell_type": "code",
   "execution_count": null,
   "metadata": {},
   "outputs": [],
   "source": [
    "t = np.linspace(0,1,1000) # almost continuous\n",
    "y = 3 + 3*np.sin(2*np.pi*10*t)"
   ]
  },
  {
   "cell_type": "markdown",
   "metadata": {},
   "source": [
    "We will take advantage of the function adc to perform the analoog to digital conversion and analyse what happens for different sampling frequencies.\n",
    "\n",
    "1. Perform the conversion with a sampling frequency of 15 Hz, 11 , 9, 6 ,  3.\n",
    "2. Estimate the aliasing for each case using the formula : \n",
    "\n",
    "if $f_s > 2 f$ , no aliasing\n",
    "\n",
    "if $2/3 f < f_s < 2 f$, $f_a = |f_s - f|$\n",
    "\n",
    "if $f_s < 2/3 f$, $f_a = (f/f_f)f_f$, where $f_f = f_s/2$ \n",
    "\n",
    "\n",
    "2. What can you say about the sampling frequency and the aliazing. How can we minimize it ? "
   ]
  },
  {
   "cell_type": "code",
   "execution_count": null,
   "metadata": {},
   "outputs": [],
   "source": []
  },
  {
   "cell_type": "code",
   "execution_count": null,
   "metadata": {},
   "outputs": [],
   "source": []
  },
  {
   "cell_type": "markdown",
   "metadata": {},
   "source": [
    "### EXO C : Using FFT-based filter to reduce noise / Frequency vs Spectrum Analysis\n"
   ]
  },
  {
   "cell_type": "code",
   "execution_count": null,
   "metadata": {},
   "outputs": [],
   "source": [
    "from numpy import *\n",
    "from numpy.fft import fft\n",
    "from matplotlib.pyplot import *\n",
    "%matplotlib inline\n",
    "\n",
    "# redefine default figure size and fonts\n",
    "import matplotlib as mpl\n",
    "# mpl.rc('text', usetex = True)\n",
    "mpl.rc('font', family = 'sans serif',size=16)\n",
    "mpl.rc('figure',figsize=(12,8))\n",
    "mpl.rc('lines', linewidth=1, color='lightblue',linestyle=':',marker='o')\n"
   ]
  },
  {
   "cell_type": "code",
   "execution_count": null,
   "metadata": {},
   "outputs": [],
   "source": [
    "f_s = 100.0 # sampling frequency (Hz)\n",
    "T = 3.0 # total actual sample time (s)\n",
    "g = loadtxt('../../data/FFT_Example_data_with_window.txt')\n",
    "# first few values\n",
    "g[:5]"
   ]
  },
  {
   "cell_type": "code",
   "execution_count": null,
   "metadata": {},
   "outputs": [],
   "source": [
    "# first, visualize the signal\n"
   ]
  },
  {
   "cell_type": "code",
   "execution_count": null,
   "metadata": {},
   "outputs": [],
   "source": [
    "# does it have a non-zero mean, DC value\n"
   ]
  },
  {
   "cell_type": "markdown",
   "metadata": {},
   "source": [
    "### Calculate the necessary parameters: $N, \\Delta t, \\Delta f, f_{fold},N_{freq}$"
   ]
  },
  {
   "cell_type": "code",
   "execution_count": null,
   "metadata": {},
   "outputs": [],
   "source": [
    "N =        # number of data points\n",
    "del_t =      # time resolution (s)\n",
    "del_f =      # frequency resolution(Hz)\n",
    "f_fold =    # folding frequency = Nyquist frequency of FFT (Hz)\n",
    "N_freq =  # number of useful frequency points"
   ]
  },
  {
   "cell_type": "markdown",
   "metadata": {},
   "source": [
    "### Frequency analysis using naive FFT"
   ]
  },
  {
   "cell_type": "code",
   "execution_count": null,
   "metadata": {},
   "outputs": [],
   "source": [
    "# Perform naive fft using fft function and plot the results\n",
    "# Plot the magnitude as a function of the frequency\n"
   ]
  },
  {
   "cell_type": "code",
   "execution_count": null,
   "metadata": {},
   "outputs": [],
   "source": []
  },
  {
   "cell_type": "markdown",
   "metadata": {},
   "source": [
    "1. Note the value at 0 Hz, what can we learn from it ? it's about 0.45 Volt\n",
    "2. What do we learn from about the frequencies? about 2.1V at 16 Hz and 0.7 Volt at 47 Hz? \n",
    "3. Let's remove DC and repeat the frequency analysis."
   ]
  },
  {
   "cell_type": "code",
   "execution_count": null,
   "metadata": {},
   "outputs": [],
   "source": []
  },
  {
   "cell_type": "markdown",
   "metadata": {},
   "source": [
    "4. use 2^k number of points for faster FFT\n",
    "5. multiply the signal by a low-pass filter:\n",
    "    * assure there is no aliasing\n",
    "    * get read of the edges and make it less leaking\n",
    "6. Create a low pass filter using Hanning.\n",
    "7. Remove DC and perform the fft on the the filtered, shorter signal,\n",
    "8. Plot the magnitude as a function of the frequency again.\n",
    "9. What can you say about teh resolution ? \n",
    "10. Get even more point by adding zeros and recover the signal. what can you say about the resolution now ?"
   ]
  },
  {
   "cell_type": "code",
   "execution_count": null,
   "metadata": {},
   "outputs": [],
   "source": []
  },
  {
   "cell_type": "code",
   "execution_count": null,
   "metadata": {},
   "outputs": [],
   "source": []
  },
  {
   "cell_type": "markdown",
   "metadata": {},
   "source": [
    "##### Lecturers\n",
    "\n",
    "Tahani Madmad : mdm@ecam.be\n",
    "\n",
    "<span>\n",
    "\n",
    "Nicolas Marchand : mch@ecam.be"
   ]
  },
  {
   "cell_type": "markdown",
   "metadata": {},
   "source": [
    "##### References"
   ]
  },
  {
   "cell_type": "markdown",
   "metadata": {},
   "source": []
  },
  {
   "cell_type": "code",
   "execution_count": null,
   "metadata": {},
   "outputs": [],
   "source": []
  }
 ],
 "metadata": {
  "kernelspec": {
   "display_name": "Python 3 (ipykernel)",
   "language": "python",
   "name": "python3"
  },
  "language_info": {
   "codemirror_mode": {
    "name": "ipython",
    "version": 3
   },
   "file_extension": ".py",
   "mimetype": "text/x-python",
   "name": "python",
   "nbconvert_exporter": "python",
   "pygments_lexer": "ipython3",
   "version": "3.9.7"
  }
 },
 "nbformat": 4,
 "nbformat_minor": 4
}
